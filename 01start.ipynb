{
 "cells": [
  {
   "cell_type": "code",
   "execution_count": null,
   "id": "00b22eca-077f-442b-af66-86644a9a8c8c",
   "metadata": {},
   "outputs": [],
   "source": []
  }
 ],
 "metadata": {
  "kernelspec": {
   "display_name": "",
   "name": ""
  },
  "language_info": {
   "name": ""
  }
 },
 "nbformat": 4,
 "nbformat_minor": 5
}
